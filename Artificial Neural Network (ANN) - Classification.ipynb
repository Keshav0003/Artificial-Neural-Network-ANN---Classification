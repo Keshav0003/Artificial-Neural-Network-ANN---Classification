{
 "cells": [
  {
   "cell_type": "code",
   "execution_count": 1,
   "id": "c71c30e0",
   "metadata": {},
   "outputs": [],
   "source": [
    "#Read_Data\n",
    "\n",
    "from warnings import filterwarnings\n",
    "filterwarnings(\"ignore\")\n",
    "\n",
    "import pandas as pd\n",
    "A = pd.read_csv(\"C:/Users/dell/Downloads/Credit.csv\")"
   ]
  },
  {
   "cell_type": "code",
   "execution_count": 2,
   "id": "1cdbc31e",
   "metadata": {},
   "outputs": [
    {
     "data": {
      "text/html": [
       "<div>\n",
       "<style scoped>\n",
       "    .dataframe tbody tr th:only-of-type {\n",
       "        vertical-align: middle;\n",
       "    }\n",
       "\n",
       "    .dataframe tbody tr th {\n",
       "        vertical-align: top;\n",
       "    }\n",
       "\n",
       "    .dataframe thead th {\n",
       "        text-align: right;\n",
       "    }\n",
       "</style>\n",
       "<table border=\"1\" class=\"dataframe\">\n",
       "  <thead>\n",
       "    <tr style=\"text-align: right;\">\n",
       "      <th></th>\n",
       "      <th>Unnamed: 0</th>\n",
       "      <th>ID</th>\n",
       "      <th>Income</th>\n",
       "      <th>Limit</th>\n",
       "      <th>Rating</th>\n",
       "      <th>Cards</th>\n",
       "      <th>Age</th>\n",
       "      <th>Education</th>\n",
       "      <th>Gender</th>\n",
       "      <th>Student</th>\n",
       "      <th>Married</th>\n",
       "      <th>Ethnicity</th>\n",
       "      <th>Balance</th>\n",
       "    </tr>\n",
       "  </thead>\n",
       "  <tbody>\n",
       "    <tr>\n",
       "      <th>0</th>\n",
       "      <td>1</td>\n",
       "      <td>1</td>\n",
       "      <td>14.891</td>\n",
       "      <td>3606</td>\n",
       "      <td>283</td>\n",
       "      <td>2</td>\n",
       "      <td>34</td>\n",
       "      <td>11</td>\n",
       "      <td>Male</td>\n",
       "      <td>No</td>\n",
       "      <td>Yes</td>\n",
       "      <td>Caucasian</td>\n",
       "      <td>333</td>\n",
       "    </tr>\n",
       "    <tr>\n",
       "      <th>1</th>\n",
       "      <td>2</td>\n",
       "      <td>2</td>\n",
       "      <td>106.025</td>\n",
       "      <td>6645</td>\n",
       "      <td>483</td>\n",
       "      <td>3</td>\n",
       "      <td>82</td>\n",
       "      <td>15</td>\n",
       "      <td>Female</td>\n",
       "      <td>Yes</td>\n",
       "      <td>Yes</td>\n",
       "      <td>Asian</td>\n",
       "      <td>903</td>\n",
       "    </tr>\n",
       "  </tbody>\n",
       "</table>\n",
       "</div>"
      ],
      "text/plain": [
       "   Unnamed: 0  ID   Income  Limit  Rating  Cards  Age  Education  Gender  \\\n",
       "0           1   1   14.891   3606     283      2   34         11    Male   \n",
       "1           2   2  106.025   6645     483      3   82         15  Female   \n",
       "\n",
       "  Student Married  Ethnicity  Balance  \n",
       "0      No     Yes  Caucasian      333  \n",
       "1     Yes     Yes      Asian      903  "
      ]
     },
     "execution_count": 2,
     "metadata": {},
     "output_type": "execute_result"
    }
   ],
   "source": [
    "A.head(2)"
   ]
  },
  {
   "cell_type": "code",
   "execution_count": 3,
   "id": "d189811c",
   "metadata": {},
   "outputs": [],
   "source": [
    "#Drop_Unwanted\n",
    "\n",
    "A = A.drop(labels=[\"Unnamed: 0\",\"ID\"],axis=1)"
   ]
  },
  {
   "cell_type": "code",
   "execution_count": 4,
   "id": "554819ae",
   "metadata": {},
   "outputs": [],
   "source": [
    "#Missing Data Treatment"
   ]
  },
  {
   "cell_type": "code",
   "execution_count": 5,
   "id": "61853b04",
   "metadata": {},
   "outputs": [
    {
     "data": {
      "text/plain": [
       "Income       0\n",
       "Limit        0\n",
       "Rating       0\n",
       "Cards        0\n",
       "Age          0\n",
       "Education    0\n",
       "Gender       0\n",
       "Student      0\n",
       "Married      0\n",
       "Ethnicity    0\n",
       "Balance      0\n",
       "dtype: int64"
      ]
     },
     "execution_count": 5,
     "metadata": {},
     "output_type": "execute_result"
    }
   ],
   "source": [
    "A.isna().sum()"
   ]
  },
  {
   "cell_type": "code",
   "execution_count": 6,
   "id": "70544f8c",
   "metadata": {},
   "outputs": [],
   "source": [
    "#no need to use replacer here"
   ]
  },
  {
   "cell_type": "code",
   "execution_count": 7,
   "id": "2d7da955",
   "metadata": {},
   "outputs": [],
   "source": [
    "#Define X and Y\n",
    "\n",
    "Y = A[\"Student\"]\n",
    "X = A.drop(labels=[\"Student\"],axis=1)"
   ]
  },
  {
   "cell_type": "code",
   "execution_count": 8,
   "id": "b2eaa8ec",
   "metadata": {},
   "outputs": [],
   "source": [
    "#Prepare Y Column\n",
    "\n",
    "from sklearn.preprocessing import LabelEncoder\n",
    "le = LabelEncoder()\n",
    "Ynew = le.fit_transform(Y)"
   ]
  },
  {
   "cell_type": "code",
   "execution_count": 9,
   "id": "fe1fde31",
   "metadata": {},
   "outputs": [],
   "source": [
    "#Preprocessing\n",
    "\n",
    "from Imp_functions import preprocessing\n",
    "Xnew = preprocessing(X)"
   ]
  },
  {
   "cell_type": "code",
   "execution_count": 10,
   "id": "764414c2",
   "metadata": {},
   "outputs": [],
   "source": [
    "#Divide data in Training and Testing Set\n",
    "\n",
    "from sklearn.model_selection import train_test_split\n",
    "xtrain,xtest,ytrain,ytest = train_test_split(Xnew,Ynew,test_size=0.2,random_state=21)"
   ]
  },
  {
   "cell_type": "code",
   "execution_count": 11,
   "id": "5f4dea34",
   "metadata": {},
   "outputs": [
    {
     "data": {
      "text/plain": [
       "(400, 14)"
      ]
     },
     "execution_count": 11,
     "metadata": {},
     "output_type": "execute_result"
    }
   ],
   "source": [
    "Xnew.shape"
   ]
  },
  {
   "cell_type": "code",
   "execution_count": 12,
   "id": "44b9dddf",
   "metadata": {},
   "outputs": [],
   "source": [
    "#Creating a Neural Network"
   ]
  },
  {
   "cell_type": "code",
   "execution_count": 13,
   "id": "44e4ef64",
   "metadata": {},
   "outputs": [],
   "source": [
    "from keras.models import Sequential\n",
    "from keras.layers import Dense"
   ]
  },
  {
   "cell_type": "code",
   "execution_count": 14,
   "id": "27acb65d",
   "metadata": {},
   "outputs": [],
   "source": [
    "nn = Sequential()\n",
    "nn.add(Dense(100,activation=\"relu\",input_dim=(14)))\n",
    "nn.add(Dense(100,activation=\"relu\"))\n",
    "nn.add(Dense(1,activation=\"sigmoid\"))"
   ]
  },
  {
   "cell_type": "code",
   "execution_count": 15,
   "id": "51a1555a",
   "metadata": {},
   "outputs": [
    {
     "name": "stdout",
     "output_type": "stream",
     "text": [
      "Epoch 1/100\n",
      "10/10 [==============================] - 0s 2ms/step - loss: 0.4382 - accuracy: 0.8781\n",
      "Epoch 2/100\n",
      "10/10 [==============================] - 0s 1ms/step - loss: 0.3259 - accuracy: 0.8969\n",
      "Epoch 3/100\n",
      "10/10 [==============================] - 0s 1ms/step - loss: 0.3050 - accuracy: 0.8969\n",
      "Epoch 4/100\n",
      "10/10 [==============================] - 0s 1ms/step - loss: 0.2898 - accuracy: 0.8969\n",
      "Epoch 5/100\n",
      "10/10 [==============================] - 0s 1ms/step - loss: 0.2716 - accuracy: 0.8969\n",
      "Epoch 6/100\n",
      "10/10 [==============================] - 0s 1ms/step - loss: 0.2573 - accuracy: 0.8969\n",
      "Epoch 7/100\n",
      "10/10 [==============================] - 0s 1ms/step - loss: 0.2385 - accuracy: 0.8969\n",
      "Epoch 8/100\n",
      "10/10 [==============================] - 0s 2ms/step - loss: 0.2255 - accuracy: 0.9000\n",
      "Epoch 9/100\n",
      "10/10 [==============================] - 0s 3ms/step - loss: 0.2092 - accuracy: 0.9062\n",
      "Epoch 10/100\n",
      "10/10 [==============================] - 0s 510us/step - loss: 0.1947 - accuracy: 0.9094\n",
      "Epoch 11/100\n",
      "10/10 [==============================] - 0s 547us/step - loss: 0.1758 - accuracy: 0.9281\n",
      "Epoch 12/100\n",
      "10/10 [==============================] - 0s 2ms/step - loss: 0.1590 - accuracy: 0.9312\n",
      "Epoch 13/100\n",
      "10/10 [==============================] - 0s 1ms/step - loss: 0.1425 - accuracy: 0.9469\n",
      "Epoch 14/100\n",
      "10/10 [==============================] - 0s 2ms/step - loss: 0.1290 - accuracy: 0.9469\n",
      "Epoch 15/100\n",
      "10/10 [==============================] - 0s 1ms/step - loss: 0.1116 - accuracy: 0.9563\n",
      "Epoch 16/100\n",
      "10/10 [==============================] - 0s 1ms/step - loss: 0.0995 - accuracy: 0.9656\n",
      "Epoch 17/100\n",
      "10/10 [==============================] - 0s 2ms/step - loss: 0.0865 - accuracy: 0.9750\n",
      "Epoch 18/100\n",
      "10/10 [==============================] - 0s 1ms/step - loss: 0.0747 - accuracy: 0.9719\n",
      "Epoch 19/100\n",
      "10/10 [==============================] - 0s 516us/step - loss: 0.0655 - accuracy: 0.9781\n",
      "Epoch 20/100\n",
      "10/10 [==============================] - 0s 1ms/step - loss: 0.0540 - accuracy: 0.9906\n",
      "Epoch 21/100\n",
      "10/10 [==============================] - 0s 859us/step - loss: 0.0472 - accuracy: 0.9937\n",
      "Epoch 22/100\n",
      "10/10 [==============================] - 0s 2ms/step - loss: 0.0425 - accuracy: 0.9969\n",
      "Epoch 23/100\n",
      "10/10 [==============================] - 0s 555us/step - loss: 0.0372 - accuracy: 0.9906\n",
      "Epoch 24/100\n",
      "10/10 [==============================] - 0s 514us/step - loss: 0.0298 - accuracy: 0.9969\n",
      "Epoch 25/100\n",
      "10/10 [==============================] - 0s 640us/step - loss: 0.0265 - accuracy: 0.9937\n",
      "Epoch 26/100\n",
      "10/10 [==============================] - 0s 2ms/step - loss: 0.0229 - accuracy: 1.0000\n",
      "Epoch 27/100\n",
      "10/10 [==============================] - 0s 1ms/step - loss: 0.0197 - accuracy: 1.0000\n",
      "Epoch 28/100\n",
      "10/10 [==============================] - 0s 2ms/step - loss: 0.0174 - accuracy: 1.0000\n",
      "Epoch 29/100\n",
      "10/10 [==============================] - 0s 2ms/step - loss: 0.0140 - accuracy: 1.0000\n",
      "Epoch 30/100\n",
      "10/10 [==============================] - 0s 1ms/step - loss: 0.0135 - accuracy: 0.9969\n",
      "Epoch 31/100\n",
      "10/10 [==============================] - 0s 1ms/step - loss: 0.0110 - accuracy: 1.0000\n",
      "Epoch 32/100\n",
      "10/10 [==============================] - 0s 1ms/step - loss: 0.0117 - accuracy: 0.9969\n",
      "Epoch 33/100\n",
      "10/10 [==============================] - 0s 2ms/step - loss: 0.0084 - accuracy: 1.0000\n",
      "Epoch 34/100\n",
      "10/10 [==============================] - 0s 2ms/step - loss: 0.0093 - accuracy: 1.0000\n",
      "Epoch 35/100\n",
      "10/10 [==============================] - 0s 2ms/step - loss: 0.0071 - accuracy: 1.0000\n",
      "Epoch 36/100\n",
      "10/10 [==============================] - 0s 2ms/step - loss: 0.0053 - accuracy: 1.0000\n",
      "Epoch 37/100\n",
      "10/10 [==============================] - 0s 1ms/step - loss: 0.0066 - accuracy: 1.0000\n",
      "Epoch 38/100\n",
      "10/10 [==============================] - 0s 2ms/step - loss: 0.0059 - accuracy: 1.0000\n",
      "Epoch 39/100\n",
      "10/10 [==============================] - 0s 1ms/step - loss: 0.0039 - accuracy: 1.0000\n",
      "Epoch 40/100\n",
      "10/10 [==============================] - 0s 2ms/step - loss: 0.0032 - accuracy: 1.0000\n",
      "Epoch 41/100\n",
      "10/10 [==============================] - 0s 2ms/step - loss: 0.0027 - accuracy: 1.0000\n",
      "Epoch 42/100\n",
      "10/10 [==============================] - 0s 1ms/step - loss: 0.0038 - accuracy: 1.0000\n",
      "Epoch 43/100\n",
      "10/10 [==============================] - 0s 1ms/step - loss: 0.0022 - accuracy: 1.0000\n",
      "Epoch 44/100\n",
      "10/10 [==============================] - 0s 1ms/step - loss: 0.0028 - accuracy: 1.0000\n",
      "Epoch 45/100\n",
      "10/10 [==============================] - 0s 1ms/step - loss: 0.0022 - accuracy: 1.0000\n",
      "Epoch 46/100\n",
      "10/10 [==============================] - 0s 2ms/step - loss: 0.0030 - accuracy: 1.0000\n",
      "Epoch 47/100\n",
      "10/10 [==============================] - 0s 621us/step - loss: 0.0016 - accuracy: 1.0000\n",
      "Epoch 48/100\n",
      "10/10 [==============================] - 0s 502us/step - loss: 0.0016 - accuracy: 1.0000\n",
      "Epoch 49/100\n",
      "10/10 [==============================] - 0s 2ms/step - loss: 0.0016 - accuracy: 1.0000\n",
      "Epoch 50/100\n",
      "10/10 [==============================] - 0s 2ms/step - loss: 0.0010 - accuracy: 1.0000\n",
      "Epoch 51/100\n",
      "10/10 [==============================] - 0s 2ms/step - loss: 8.5277e-04 - accuracy: 1.0000\n",
      "Epoch 52/100\n",
      "10/10 [==============================] - 0s 1ms/step - loss: 0.0014 - accuracy: 1.0000\n",
      "Epoch 53/100\n",
      "10/10 [==============================] - 0s 1ms/step - loss: 0.0010 - accuracy: 1.0000\n",
      "Epoch 54/100\n",
      "10/10 [==============================] - 0s 2ms/step - loss: 5.7746e-04 - accuracy: 1.0000\n",
      "Epoch 55/100\n",
      "10/10 [==============================] - 0s 1ms/step - loss: 5.5647e-04 - accuracy: 1.0000\n",
      "Epoch 56/100\n",
      "10/10 [==============================] - 0s 1ms/step - loss: 6.1734e-04 - accuracy: 1.0000\n",
      "Epoch 57/100\n",
      "10/10 [==============================] - 0s 1ms/step - loss: 5.1008e-04 - accuracy: 1.0000\n",
      "Epoch 58/100\n",
      "10/10 [==============================] - 0s 900us/step - loss: 5.4507e-04 - accuracy: 1.0000\n",
      "Epoch 59/100\n",
      "10/10 [==============================] - 0s 1ms/step - loss: 5.2339e-04 - accuracy: 1.0000\n",
      "Epoch 60/100\n",
      "10/10 [==============================] - 0s 2ms/step - loss: 2.4047e-04 - accuracy: 1.0000\n",
      "Epoch 61/100\n",
      "10/10 [==============================] - 0s 2ms/step - loss: 2.3376e-04 - accuracy: 1.0000\n",
      "Epoch 62/100\n",
      "10/10 [==============================] - 0s 1ms/step - loss: 2.0760e-04 - accuracy: 1.0000\n",
      "Epoch 63/100\n",
      "10/10 [==============================] - 0s 1ms/step - loss: 7.4993e-04 - accuracy: 1.0000\n",
      "Epoch 64/100\n",
      "10/10 [==============================] - 0s 2ms/step - loss: 1.5220e-04 - accuracy: 1.0000\n",
      "Epoch 65/100\n",
      "10/10 [==============================] - 0s 1ms/step - loss: 1.3144e-04 - accuracy: 1.0000\n",
      "Epoch 66/100\n",
      "10/10 [==============================] - 0s 1ms/step - loss: 1.1069e-04 - accuracy: 1.0000\n",
      "Epoch 67/100\n",
      "10/10 [==============================] - 0s 2ms/step - loss: 9.8198e-05 - accuracy: 1.0000\n",
      "Epoch 68/100\n",
      "10/10 [==============================] - 0s 1ms/step - loss: 2.4904e-04 - accuracy: 1.0000\n",
      "Epoch 69/100\n",
      "10/10 [==============================] - 0s 1ms/step - loss: 1.5086e-04 - accuracy: 1.0000\n",
      "Epoch 70/100\n",
      "10/10 [==============================] - 0s 1ms/step - loss: 8.1820e-05 - accuracy: 1.0000\n",
      "Epoch 71/100\n",
      "10/10 [==============================] - 0s 1ms/step - loss: 6.6506e-05 - accuracy: 1.0000\n",
      "Epoch 72/100\n",
      "10/10 [==============================] - 0s 2ms/step - loss: 1.0852e-04 - accuracy: 1.0000\n",
      "Epoch 73/100\n",
      "10/10 [==============================] - 0s 1ms/step - loss: 4.6441e-05 - accuracy: 1.0000\n",
      "Epoch 74/100\n",
      "10/10 [==============================] - 0s 315us/step - loss: 4.0270e-05 - accuracy: 1.0000\n",
      "Epoch 75/100\n",
      "10/10 [==============================] - 0s 496us/step - loss: 2.8703e-04 - accuracy: 1.0000\n",
      "Epoch 76/100\n",
      "10/10 [==============================] - 0s 805us/step - loss: 2.5829e-05 - accuracy: 1.0000\n",
      "Epoch 77/100\n",
      "10/10 [==============================] - 0s 1ms/step - loss: 2.4075e-05 - accuracy: 1.0000\n",
      "Epoch 78/100\n",
      "10/10 [==============================] - 0s 378us/step - loss: 2.2024e-05 - accuracy: 1.0000\n",
      "Epoch 79/100\n",
      "10/10 [==============================] - 0s 663us/step - loss: 3.0337e-05 - accuracy: 1.0000\n",
      "Epoch 80/100\n",
      "10/10 [==============================] - 0s 1ms/step - loss: 6.3058e-05 - accuracy: 1.0000\n",
      "Epoch 81/100\n",
      "10/10 [==============================] - 0s 1ms/step - loss: 6.0930e-05 - accuracy: 1.0000\n",
      "Epoch 82/100\n",
      "10/10 [==============================] - 0s 2ms/step - loss: 4.6518e-05 - accuracy: 1.0000\n",
      "Epoch 83/100\n",
      "10/10 [==============================] - 0s 1ms/step - loss: 1.1267e-05 - accuracy: 1.0000\n",
      "Epoch 84/100\n",
      "10/10 [==============================] - 0s 2ms/step - loss: 1.0500e-05 - accuracy: 1.0000\n",
      "Epoch 85/100\n",
      "10/10 [==============================] - 0s 1ms/step - loss: 8.7777e-06 - accuracy: 1.0000\n",
      "Epoch 86/100\n",
      "10/10 [==============================] - 0s 1ms/step - loss: 1.4235e-05 - accuracy: 1.0000\n",
      "Epoch 87/100\n",
      "10/10 [==============================] - 0s 322us/step - loss: 7.4759e-05 - accuracy: 1.0000\n",
      "Epoch 88/100\n",
      "10/10 [==============================] - 0s 566us/step - loss: 2.0119e-05 - accuracy: 1.0000\n",
      "Epoch 89/100\n",
      "10/10 [==============================] - 0s 912us/step - loss: 8.2913e-06 - accuracy: 1.0000\n",
      "Epoch 90/100\n",
      "10/10 [==============================] - 0s 1ms/step - loss: 5.0029e-06 - accuracy: 1.0000\n",
      "Epoch 91/100\n",
      "10/10 [==============================] - 0s 879us/step - loss: 5.3352e-06 - accuracy: 1.0000\n",
      "Epoch 92/100\n",
      "10/10 [==============================] - 0s 2ms/step - loss: 5.3657e-06 - accuracy: 1.0000\n",
      "Epoch 93/100\n",
      "10/10 [==============================] - 0s 1ms/step - loss: 5.5703e-06 - accuracy: 1.0000\n",
      "Epoch 94/100\n",
      "10/10 [==============================] - 0s 2ms/step - loss: 1.9948e-05 - accuracy: 1.0000\n",
      "Epoch 95/100\n",
      "10/10 [==============================] - 0s 1ms/step - loss: 9.5602e-06 - accuracy: 1.0000\n",
      "Epoch 96/100\n",
      "10/10 [==============================] - 0s 638us/step - loss: 2.6368e-06 - accuracy: 1.0000\n",
      "Epoch 97/100\n",
      "10/10 [==============================] - 0s 425us/step - loss: 3.0210e-06 - accuracy: 1.0000\n",
      "Epoch 98/100\n",
      "10/10 [==============================] - 0s 942us/step - loss: 3.0663e-06 - accuracy: 1.0000\n",
      "Epoch 99/100\n",
      "10/10 [==============================] - 0s 2ms/step - loss: 1.8812e-06 - accuracy: 1.0000\n",
      "Epoch 100/100\n",
      "10/10 [==============================] - 0s 2ms/step - loss: 9.4663e-06 - accuracy: 1.0000\n"
     ]
    },
    {
     "data": {
      "text/plain": [
       "<keras.callbacks.History at 0x18b9e7be0d0>"
      ]
     },
     "execution_count": 15,
     "metadata": {},
     "output_type": "execute_result"
    }
   ],
   "source": [
    "nn.compile(loss=\"binary_crossentropy\",metrics=\"accuracy\")\n",
    "nn.fit(xtrain,ytrain,epochs=100)"
   ]
  },
  {
   "cell_type": "code",
   "execution_count": 16,
   "id": "4d0c714a",
   "metadata": {},
   "outputs": [],
   "source": [
    "#nn.get_weights()"
   ]
  },
  {
   "cell_type": "code",
   "execution_count": 17,
   "id": "5c1ee8b5",
   "metadata": {},
   "outputs": [
    {
     "name": "stdout",
     "output_type": "stream",
     "text": [
      "Model: \"sequential\"\n",
      "_________________________________________________________________\n",
      " Layer (type)                Output Shape              Param #   \n",
      "=================================================================\n",
      " dense (Dense)               (None, 100)               1500      \n",
      "                                                                 \n",
      " dense_1 (Dense)             (None, 100)               10100     \n",
      "                                                                 \n",
      " dense_2 (Dense)             (None, 1)                 101       \n",
      "                                                                 \n",
      "=================================================================\n",
      "Total params: 11,701\n",
      "Trainable params: 11,701\n",
      "Non-trainable params: 0\n",
      "_________________________________________________________________\n"
     ]
    }
   ],
   "source": [
    "nn.summary()"
   ]
  },
  {
   "cell_type": "code",
   "execution_count": 18,
   "id": "9f89108d",
   "metadata": {},
   "outputs": [],
   "source": [
    "#Testing 1"
   ]
  },
  {
   "cell_type": "code",
   "execution_count": 19,
   "id": "07c55fc2",
   "metadata": {},
   "outputs": [],
   "source": [
    "Q=[]\n",
    "for i in nn.predict(xtrain):\n",
    "    if (i<0.5):\n",
    "        Q.append(0)\n",
    "    else:\n",
    "        Q.append(1)"
   ]
  },
  {
   "cell_type": "code",
   "execution_count": 20,
   "id": "d129f877",
   "metadata": {},
   "outputs": [
    {
     "data": {
      "text/plain": [
       "1.0"
      ]
     },
     "execution_count": 20,
     "metadata": {},
     "output_type": "execute_result"
    }
   ],
   "source": [
    "from sklearn.metrics import accuracy_score\n",
    "accuracy_score(ytrain,Q)"
   ]
  },
  {
   "cell_type": "code",
   "execution_count": 21,
   "id": "88b52177",
   "metadata": {},
   "outputs": [],
   "source": [
    "Q=[]\n",
    "for i in nn.predict(xtest):\n",
    "    if (i<0.5):\n",
    "        Q.append(0)\n",
    "    else:\n",
    "        Q.append(1)"
   ]
  },
  {
   "cell_type": "code",
   "execution_count": 22,
   "id": "7f07002a",
   "metadata": {},
   "outputs": [
    {
     "data": {
      "text/plain": [
       "0.9625"
      ]
     },
     "execution_count": 22,
     "metadata": {},
     "output_type": "execute_result"
    }
   ],
   "source": [
    "from sklearn.metrics import accuracy_score\n",
    "accuracy_score(ytest,Q)"
   ]
  },
  {
   "cell_type": "raw",
   "id": "a2424d41",
   "metadata": {},
   "source": [
    "#Deriving Actual Output from Predicted"
   ]
  },
  {
   "cell_type": "code",
   "execution_count": 25,
   "id": "726546eb",
   "metadata": {},
   "outputs": [
    {
     "data": {
      "text/plain": [
       "array(['Yes', 'Yes', 'No', 'No', 'No', 'No', 'No', 'No', 'No', 'No', 'No',\n",
       "       'No', 'No', 'No', 'No', 'No', 'Yes', 'No', 'No', 'No', 'No', 'No',\n",
       "       'No', 'No', 'No', 'No', 'No', 'No', 'Yes', 'No', 'No', 'No', 'No',\n",
       "       'No', 'No', 'No', 'No', 'Yes', 'No', 'No', 'No', 'No', 'No', 'No',\n",
       "       'No', 'No', 'No', 'No', 'No', 'No', 'No', 'No', 'Yes', 'No', 'No',\n",
       "       'No', 'No', 'No', 'No', 'No', 'No', 'No', 'No', 'No', 'No', 'No',\n",
       "       'No', 'No', 'No', 'No', 'No', 'No', 'No', 'No', 'No', 'No', 'No',\n",
       "       'No', 'No', 'No'], dtype=object)"
      ]
     },
     "execution_count": 25,
     "metadata": {},
     "output_type": "execute_result"
    }
   ],
   "source": [
    "le.inverse_transform(Q)  "
   ]
  },
  {
   "cell_type": "code",
   "execution_count": null,
   "id": "bc457dea",
   "metadata": {},
   "outputs": [],
   "source": []
  },
  {
   "cell_type": "code",
   "execution_count": null,
   "id": "1669d5e5",
   "metadata": {},
   "outputs": [],
   "source": []
  },
  {
   "cell_type": "code",
   "execution_count": null,
   "id": "9dd64f04",
   "metadata": {},
   "outputs": [],
   "source": []
  },
  {
   "cell_type": "code",
   "execution_count": null,
   "id": "e1d15259",
   "metadata": {},
   "outputs": [],
   "source": []
  },
  {
   "cell_type": "code",
   "execution_count": null,
   "id": "5576dc6b",
   "metadata": {},
   "outputs": [],
   "source": []
  },
  {
   "cell_type": "code",
   "execution_count": null,
   "id": "1dce84fa",
   "metadata": {},
   "outputs": [],
   "source": []
  },
  {
   "cell_type": "code",
   "execution_count": null,
   "id": "a0983f0b",
   "metadata": {},
   "outputs": [],
   "source": []
  }
 ],
 "metadata": {
  "kernelspec": {
   "display_name": "Python 3 (ipykernel)",
   "language": "python",
   "name": "python3"
  },
  "language_info": {
   "codemirror_mode": {
    "name": "ipython",
    "version": 3
   },
   "file_extension": ".py",
   "mimetype": "text/x-python",
   "name": "python",
   "nbconvert_exporter": "python",
   "pygments_lexer": "ipython3",
   "version": "3.8.12"
  }
 },
 "nbformat": 4,
 "nbformat_minor": 5
}
